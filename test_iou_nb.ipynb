{
 "cells": [
  {
   "cell_type": "code",
   "execution_count": 3,
   "metadata": {},
   "outputs": [],
   "source": [
    "from IOU_computations import *\n",
    "import cv2\n",
    "import matplotlib.pyplot as plt\n",
    "from numpy import newaxis\n",
    "import os"
   ]
  },
  {
   "cell_type": "code",
   "execution_count": 4,
   "metadata": {},
   "outputs": [
    {
     "data": {
      "image/png": "[encoded data removed]",
      "text/plain": [
       "<matplotlib.figure.Figure at 0x7f4889fdb438>"
      ]
     },
     "metadata": {},
     "output_type": "display_data"
    },
    {
     "data": {
      "image/png": "[encoded data removed]",
      "text/plain": [
       "<matplotlib.figure.Figure at 0x7f4852c321d0>"
      ]
     },
     "metadata": {},
     "output_type": "display_data"
    }
   ],
   "source": [
    "path='MODEL_VAL/TEST_SAVE/'\n",
    "pred_path=path+'epoch_71_Predictions_8.jpg'\n",
    "gt_path=path+'epoch_71_Groundtruth_8.jpg'\n",
    "\n",
    "TMP_IOU='VISUALIZATION_IMAGES/TMP_IOU/'\n",
    "if not os.path.exists(TMP_IOU):\n",
    "            os.makedirs(TMP_IOU)\n",
    "\n",
    "pred=cv2.imread(pred_path,cv2.IMREAD_GRAYSCALE)[newaxis,:,:]\n",
    "gt=cv2.imread(gt_path,cv2.IMREAD_GRAYSCALE)[newaxis,:,:]\n",
    "plt.imshow(cv2.imread(pred_path,cv2.IMREAD_GRAYSCALE))\n",
    "plt.show()\n",
    "plt.imshow(cv2.imread(gt_path,cv2.IMREAD_GRAYSCALE))\n",
    "plt.show()\n"
   ]
  },
  {
   "cell_type": "code",
   "execution_count": 6,
   "metadata": {},
   "outputs": [],
   "source": [
    "iou_acc,f1,ious=predict_score_batch(TMP_IOU,gt,pred)"
   ]
  },
  {
   "cell_type": "code",
   "execution_count": 7,
   "metadata": {},
   "outputs": [
    {
     "name": "stdout",
     "output_type": "stream",
     "text": [
      "75.0\n",
      "66.66666666666666\n",
      "0.5772627967080182\n"
     ]
    }
   ],
   "source": [
    "print(iou_acc)\n",
    "print(f1)\n",
    "print(ious)\n"
   ]
  },
  {
   "cell_type": "code",
   "execution_count": 10,
   "metadata": {},
   "outputs": [
    {
     "name": "stderr",
     "output_type": "stream",
     "text": [
      "/home/s161362/.conda/envs/env_dhi/lib/python3.6/site-packages/h5py/__init__.py:36: FutureWarning: Conversion of the second argument of issubdtype from `float` to `np.floating` is deprecated. In future, it will be treated as `np.float64 == np.dtype(float).type`.\n",
      "  from ._conv import register_converters as _register_converters\n"
     ]
    }
   ],
   "source": [
    "from dataset_generator import DatasetGenerator"
   ]
  },
  {
   "cell_type": "code",
   "execution_count": 14,
   "metadata": {},
   "outputs": [
    {
     "name": "stdout",
     "output_type": "stream",
     "text": [
      "1.0\n"
     ]
    }
   ],
   "source": [
    "root_folder = '/scratch/SPACENET_DATA_PROCESSED/DATASET/120_x_120_8_bands_pansh/'\n",
    "\n",
    "val_generator = DatasetGenerator.from_root_folder(root_folder+'VALIDATION/', batch_size=2)\n",
    "val_generator=val_generator.shuffled()\n",
    "val_generator=val_generator.__iter__()\n",
    "X_val,Y_val=val_generator.__next__()\n",
    "print(np.amax(Y_val))\n"
   ]
  },
  {
   "cell_type": "code",
   "execution_count": null,
   "metadata": {},
   "outputs": [],
   "source": []
  }
 ],
 "metadata": {
  "kernelspec": {
   "display_name": "env_dhi",
   "language": "python",
   "name": "env_dhi"
  },
  "language_info": {
   "codemirror_mode": {
    "name": "ipython",
    "version": 3
   },
   "file_extension": ".py",
   "mimetype": "text/x-python",
   "name": "python",
   "nbconvert_exporter": "python",
   "pygments_lexer": "ipython3",
   "version": "3.6.4"
  }
 },
 "nbformat": 4,
 "nbformat_minor": 2
}
