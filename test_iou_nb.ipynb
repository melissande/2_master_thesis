{
 "cells": [
  {
   "cell_type": "code",
   "execution_count": 1,
   "metadata": {},
   "outputs": [],
   "source": [
    "from IOU_computations import *\n",
    "import cv2\n",
    "import matplotlib.pyplot as plt\n",
    "from numpy import newaxis\n",
    "import os\n",
    "import time"
   ]
  },
  {
   "cell_type": "code",
   "execution_count": 3,
   "metadata": {},
   "outputs": [
    {
     "data": {
      "image/png": "[encoded data removed]",
      "text/plain": [
       "<matplotlib.figure.Figure at 0x7fd3a1712668>"
      ]
     },
     "metadata": {},
     "output_type": "display_data"
    },
    {
     "data": {
      "image/png": "[encoded data removed]",
      "text/plain": [
       "<matplotlib.figure.Figure at 0x7fd3993e1e80>"
      ]
     },
     "metadata": {},
     "output_type": "display_data"
    }
   ],
   "source": [
    "path='VISUALIZATION_IMAGES/DIST2_SPACENET/'\n",
    "pred_path=path+'_0_Groundtruth_12.jpg'\n",
    "gt_path=path+'_0_Predictions_12.jpg'\n",
    "\n",
    "TMP_IOU='VISUALIZATION_IMAGES/TMP_IOU/'\n",
    "if not os.path.exists(TMP_IOU):\n",
    "            os.makedirs(TMP_IOU)\n",
    "\n",
    "pred=cv2.imread(pred_path,cv2.IMREAD_GRAYSCALE)[newaxis,:,:]\n",
    "gt=cv2.imread(gt_path,cv2.IMREAD_GRAYSCALE)[newaxis,:,:]\n",
    "plt.imshow(cv2.imread(pred_path,cv2.IMREAD_GRAYSCALE))\n",
    "plt.show()\n",
    "plt.imshow(cv2.imread(gt_path,cv2.IMREAD_GRAYSCALE))\n",
    "plt.show()\n"
   ]
  },
  {
   "cell_type": "code",
   "execution_count": 4,
   "metadata": {},
   "outputs": [
    {
     "name": "stdout",
     "output_type": "stream",
     "text": [
      "0.1546344757080078\n"
     ]
    }
   ],
   "source": [
    "start_time = time.time()\n",
    "iou_acc,f1,ious=predict_score_batch(TMP_IOU,gt,pred)\n",
    "print(time.time()-start_time)"
   ]
  },
  {
   "cell_type": "code",
   "execution_count": 5,
   "metadata": {},
   "outputs": [
    {
     "name": "stdout",
     "output_type": "stream",
     "text": [
      "42.857142857142854\n",
      "54.54545454545454\n",
      "0.35625051115764444\n"
     ]
    }
   ],
   "source": [
    "print(iou_acc)\n",
    "print(f1)\n",
    "print(ious)\n"
   ]
  },
  {
   "cell_type": "code",
   "execution_count": 10,
   "metadata": {},
   "outputs": [
    {
     "name": "stderr",
     "output_type": "stream",
     "text": [
      "/home/s161362/.conda/envs/env_dhi/lib/python3.6/site-packages/h5py/__init__.py:36: FutureWarning: Conversion of the second argument of issubdtype from `float` to `np.floating` is deprecated. In future, it will be treated as `np.float64 == np.dtype(float).type`.\n",
      "  from ._conv import register_converters as _register_converters\n"
     ]
    }
   ],
   "source": [
    "from dataset_generator import DatasetGenerator"
   ]
  },
  {
   "cell_type": "code",
   "execution_count": 14,
   "metadata": {},
   "outputs": [
    {
     "name": "stdout",
     "output_type": "stream",
     "text": [
      "1.0\n"
     ]
    }
   ],
   "source": [
    "root_folder = '/scratch/SPACENET_DATA_PROCESSED/DATASET/120_x_120_8_bands_pansh/'\n",
    "\n",
    "val_generator = DatasetGenerator.from_root_folder(root_folder+'VALIDATION/', batch_size=2)\n",
    "val_generator=val_generator.shuffled()\n",
    "val_generator=val_generator.__iter__()\n",
    "X_val,Y_val=val_generator.__next__()\n",
    "print(np.amax(Y_val))\n"
   ]
  },
  {
   "cell_type": "code",
   "execution_count": null,
   "metadata": {},
   "outputs": [],
   "source": []
  }
 ],
 "metadata": {
  "kernelspec": {
   "display_name": "env_dhi",
   "language": "python",
   "name": "env_dhi"
  },
  "language_info": {
   "codemirror_mode": {
    "name": "ipython",
    "version": 3
   },
   "file_extension": ".py",
   "mimetype": "text/x-python",
   "name": "python",
   "nbconvert_exporter": "python",
   "pygments_lexer": "ipython3",
   "version": "3.6.4"
  }
 },
 "nbformat": 4,
 "nbformat_minor": 2
}
